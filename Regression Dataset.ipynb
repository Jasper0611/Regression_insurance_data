{
 "cells": [
  {
   "cell_type": "markdown",
   "id": "e714e026",
   "metadata": {},
   "source": [
    "Introduction: \n",
    "Going to analyse the Regression data of insurance charges on how much money they got for insurance based on their Age,Sex,children, smoker,region,bmi. \n",
    "Algorithms used :- \n",
    "    Linear Regression,\n",
    "    Decision Tree,\n",
    "    Random Forest,\n",
    "    KNN(KNearest Neighbours),\n",
    "    Support Vector Machine"
   ]
  },
  {
   "cell_type": "code",
   "execution_count": 1,
   "id": "36a47179",
   "metadata": {},
   "outputs": [],
   "source": [
    "import pandas as pd\n",
    "import numpy as np\n",
    "import matplotlib.pyplot as plt\n",
    "import seaborn as sns"
   ]
  },
  {
   "cell_type": "markdown",
   "id": "425a64c6",
   "metadata": {},
   "source": [
    "# Analyse Dataset"
   ]
  },
  {
   "cell_type": "code",
   "execution_count": 2,
   "id": "273682b8",
   "metadata": {},
   "outputs": [
    {
     "data": {
      "text/html": [
       "<div>\n",
       "<style scoped>\n",
       "    .dataframe tbody tr th:only-of-type {\n",
       "        vertical-align: middle;\n",
       "    }\n",
       "\n",
       "    .dataframe tbody tr th {\n",
       "        vertical-align: top;\n",
       "    }\n",
       "\n",
       "    .dataframe thead th {\n",
       "        text-align: right;\n",
       "    }\n",
       "</style>\n",
       "<table border=\"1\" class=\"dataframe\">\n",
       "  <thead>\n",
       "    <tr style=\"text-align: right;\">\n",
       "      <th></th>\n",
       "      <th>age</th>\n",
       "      <th>sex</th>\n",
       "      <th>bmi</th>\n",
       "      <th>children</th>\n",
       "      <th>smoker</th>\n",
       "      <th>region</th>\n",
       "      <th>charges</th>\n",
       "    </tr>\n",
       "  </thead>\n",
       "  <tbody>\n",
       "    <tr>\n",
       "      <th>0</th>\n",
       "      <td>19</td>\n",
       "      <td>female</td>\n",
       "      <td>27.900</td>\n",
       "      <td>0</td>\n",
       "      <td>yes</td>\n",
       "      <td>southwest</td>\n",
       "      <td>16884.92400</td>\n",
       "    </tr>\n",
       "    <tr>\n",
       "      <th>1</th>\n",
       "      <td>18</td>\n",
       "      <td>male</td>\n",
       "      <td>33.770</td>\n",
       "      <td>1</td>\n",
       "      <td>no</td>\n",
       "      <td>southeast</td>\n",
       "      <td>1725.55230</td>\n",
       "    </tr>\n",
       "    <tr>\n",
       "      <th>2</th>\n",
       "      <td>28</td>\n",
       "      <td>male</td>\n",
       "      <td>33.000</td>\n",
       "      <td>3</td>\n",
       "      <td>no</td>\n",
       "      <td>southeast</td>\n",
       "      <td>4449.46200</td>\n",
       "    </tr>\n",
       "    <tr>\n",
       "      <th>3</th>\n",
       "      <td>33</td>\n",
       "      <td>male</td>\n",
       "      <td>22.705</td>\n",
       "      <td>0</td>\n",
       "      <td>no</td>\n",
       "      <td>northwest</td>\n",
       "      <td>21984.47061</td>\n",
       "    </tr>\n",
       "    <tr>\n",
       "      <th>4</th>\n",
       "      <td>32</td>\n",
       "      <td>male</td>\n",
       "      <td>28.880</td>\n",
       "      <td>0</td>\n",
       "      <td>no</td>\n",
       "      <td>northwest</td>\n",
       "      <td>3866.85520</td>\n",
       "    </tr>\n",
       "    <tr>\n",
       "      <th>5</th>\n",
       "      <td>31</td>\n",
       "      <td>female</td>\n",
       "      <td>25.740</td>\n",
       "      <td>0</td>\n",
       "      <td>no</td>\n",
       "      <td>southeast</td>\n",
       "      <td>3756.62160</td>\n",
       "    </tr>\n",
       "    <tr>\n",
       "      <th>6</th>\n",
       "      <td>46</td>\n",
       "      <td>female</td>\n",
       "      <td>33.440</td>\n",
       "      <td>1</td>\n",
       "      <td>no</td>\n",
       "      <td>southeast</td>\n",
       "      <td>8240.58960</td>\n",
       "    </tr>\n",
       "    <tr>\n",
       "      <th>7</th>\n",
       "      <td>37</td>\n",
       "      <td>female</td>\n",
       "      <td>27.740</td>\n",
       "      <td>3</td>\n",
       "      <td>no</td>\n",
       "      <td>northwest</td>\n",
       "      <td>7281.50560</td>\n",
       "    </tr>\n",
       "    <tr>\n",
       "      <th>8</th>\n",
       "      <td>37</td>\n",
       "      <td>male</td>\n",
       "      <td>29.830</td>\n",
       "      <td>2</td>\n",
       "      <td>no</td>\n",
       "      <td>northeast</td>\n",
       "      <td>6406.41070</td>\n",
       "    </tr>\n",
       "    <tr>\n",
       "      <th>9</th>\n",
       "      <td>60</td>\n",
       "      <td>female</td>\n",
       "      <td>25.840</td>\n",
       "      <td>0</td>\n",
       "      <td>no</td>\n",
       "      <td>northwest</td>\n",
       "      <td>28923.13692</td>\n",
       "    </tr>\n",
       "  </tbody>\n",
       "</table>\n",
       "</div>"
      ],
      "text/plain": [
       "   age     sex     bmi  children smoker     region      charges\n",
       "0   19  female  27.900         0    yes  southwest  16884.92400\n",
       "1   18    male  33.770         1     no  southeast   1725.55230\n",
       "2   28    male  33.000         3     no  southeast   4449.46200\n",
       "3   33    male  22.705         0     no  northwest  21984.47061\n",
       "4   32    male  28.880         0     no  northwest   3866.85520\n",
       "5   31  female  25.740         0     no  southeast   3756.62160\n",
       "6   46  female  33.440         1     no  southeast   8240.58960\n",
       "7   37  female  27.740         3     no  northwest   7281.50560\n",
       "8   37    male  29.830         2     no  northeast   6406.41070\n",
       "9   60  female  25.840         0     no  northwest  28923.13692"
      ]
     },
     "execution_count": 2,
     "metadata": {},
     "output_type": "execute_result"
    }
   ],
   "source": [
    "data=pd.read_csv(r'C:\\Users\\rahuj\\Downloads\\insurance.csv')\n",
    "data.head(10)"
   ]
  },
  {
   "cell_type": "code",
   "execution_count": 3,
   "id": "9f81eb87",
   "metadata": {},
   "outputs": [
    {
     "data": {
      "text/plain": [
       "Text(0.5, 1.0, 'Sex VS Charges')"
      ]
     },
     "execution_count": 3,
     "metadata": {},
     "output_type": "execute_result"
    },
    {
     "data": {
      "image/png": "[encoded data removed]",
      "text/plain": [
       "<Figure size 432x288 with 1 Axes>"
      ]
     },
     "metadata": {
      "needs_background": "light"
     },
     "output_type": "display_data"
    }
   ],
   "source": [
    "sns.barplot(x='sex',y='charges',data=data)\n",
    "plt.title('Sex VS Charges')"
   ]
  },
  {
   "cell_type": "code",
   "execution_count": 4,
   "id": "0b6fce93",
   "metadata": {},
   "outputs": [
    {
     "data": {
      "text/plain": [
       "Text(0.5, 1.0, 'Age VS Charges')"
      ]
     },
     "execution_count": 4,
     "metadata": {},
     "output_type": "execute_result"
    },
    {
     "data": {
      "image/png": "[encoded data removed]",
      "text/plain": [
       "<Figure size 1080x720 with 1 Axes>"
      ]
     },
     "metadata": {
      "needs_background": "light"
     },
     "output_type": "display_data"
    }
   ],
   "source": [
    "plt.figure(figsize=(15,10))\n",
    "sns.barplot(x='age',y='charges',data=data)\n",
    "plt.title('Age VS Charges')"
   ]
  },
  {
   "cell_type": "code",
   "execution_count": 5,
   "id": "98021b0c",
   "metadata": {},
   "outputs": [
    {
     "data": {
      "text/plain": [
       "Text(0.5, 1.0, 'Region VS Charges')"
      ]
     },
     "execution_count": 5,
     "metadata": {},
     "output_type": "execute_result"
    },
    {
     "data": {
      "image/png": "[encoded data removed]",
      "text/plain": [
       "<Figure size 432x288 with 1 Axes>"
      ]
     },
     "metadata": {
      "needs_background": "light"
     },
     "output_type": "display_data"
    }
   ],
   "source": [
    "sns.barplot(x='region',y='charges',data=data)\n",
    "plt.title('Region VS Charges')"
   ]
  },
  {
   "cell_type": "code",
   "execution_count": 6,
   "id": "7ff9b5b0",
   "metadata": {},
   "outputs": [
    {
     "data": {
      "text/plain": [
       "Text(0.5, 1.0, 'Childerns VS Charges')"
      ]
     },
     "execution_count": 6,
     "metadata": {},
     "output_type": "execute_result"
    },
    {
     "data": {
      "image/png": "[encoded data removed]",
      "text/plain": [
       "<Figure size 360x432 with 1 Axes>"
      ]
     },
     "metadata": {
      "needs_background": "light"
     },
     "output_type": "display_data"
    }
   ],
   "source": [
    "plt.figure(figsize=(5,6))\n",
    "sns.barplot(x='children',y='charges',data=data)\n",
    "plt.title('Childerns VS Charges')"
   ]
  },
  {
   "cell_type": "markdown",
   "id": "58f32928",
   "metadata": {},
   "source": [
    "# Cleaning the dataset"
   ]
  },
  {
   "cell_type": "code",
   "execution_count": 7,
   "id": "495ec7c9",
   "metadata": {},
   "outputs": [
    {
     "data": {
      "text/html": [
       "<div>\n",
       "<style scoped>\n",
       "    .dataframe tbody tr th:only-of-type {\n",
       "        vertical-align: middle;\n",
       "    }\n",
       "\n",
       "    .dataframe tbody tr th {\n",
       "        vertical-align: top;\n",
       "    }\n",
       "\n",
       "    .dataframe thead th {\n",
       "        text-align: right;\n",
       "    }\n",
       "</style>\n",
       "<table border=\"1\" class=\"dataframe\">\n",
       "  <thead>\n",
       "    <tr style=\"text-align: right;\">\n",
       "      <th></th>\n",
       "      <th>male</th>\n",
       "    </tr>\n",
       "  </thead>\n",
       "  <tbody>\n",
       "    <tr>\n",
       "      <th>0</th>\n",
       "      <td>0</td>\n",
       "    </tr>\n",
       "    <tr>\n",
       "      <th>1</th>\n",
       "      <td>1</td>\n",
       "    </tr>\n",
       "    <tr>\n",
       "      <th>2</th>\n",
       "      <td>1</td>\n",
       "    </tr>\n",
       "    <tr>\n",
       "      <th>3</th>\n",
       "      <td>1</td>\n",
       "    </tr>\n",
       "    <tr>\n",
       "      <th>4</th>\n",
       "      <td>1</td>\n",
       "    </tr>\n",
       "  </tbody>\n",
       "</table>\n",
       "</div>"
      ],
      "text/plain": [
       "   male\n",
       "0     0\n",
       "1     1\n",
       "2     1\n",
       "3     1\n",
       "4     1"
      ]
     },
     "execution_count": 7,
     "metadata": {},
     "output_type": "execute_result"
    }
   ],
   "source": [
    "#changing the labels into int\n",
    "Smoker=pd.get_dummies(data[\"smoker\"],drop_first=True)\n",
    "Region=pd.get_dummies(data[\"region\"])\n",
    "Male=pd.get_dummies(data[\"sex\"],drop_first=True)\n",
    "Male.head(5)"
   ]
  },
  {
   "cell_type": "code",
   "execution_count": 8,
   "id": "8473c64a",
   "metadata": {},
   "outputs": [
    {
     "data": {
      "text/html": [
       "<div>\n",
       "<style scoped>\n",
       "    .dataframe tbody tr th:only-of-type {\n",
       "        vertical-align: middle;\n",
       "    }\n",
       "\n",
       "    .dataframe tbody tr th {\n",
       "        vertical-align: top;\n",
       "    }\n",
       "\n",
       "    .dataframe thead th {\n",
       "        text-align: right;\n",
       "    }\n",
       "</style>\n",
       "<table border=\"1\" class=\"dataframe\">\n",
       "  <thead>\n",
       "    <tr style=\"text-align: right;\">\n",
       "      <th></th>\n",
       "      <th>age</th>\n",
       "      <th>bmi</th>\n",
       "      <th>children</th>\n",
       "      <th>charges</th>\n",
       "      <th>yes</th>\n",
       "      <th>northeast</th>\n",
       "      <th>southeast</th>\n",
       "      <th>male</th>\n",
       "    </tr>\n",
       "  </thead>\n",
       "  <tbody>\n",
       "    <tr>\n",
       "      <th>0</th>\n",
       "      <td>19</td>\n",
       "      <td>27.900</td>\n",
       "      <td>0</td>\n",
       "      <td>16884.92400</td>\n",
       "      <td>1</td>\n",
       "      <td>0</td>\n",
       "      <td>0</td>\n",
       "      <td>0</td>\n",
       "    </tr>\n",
       "    <tr>\n",
       "      <th>1</th>\n",
       "      <td>18</td>\n",
       "      <td>33.770</td>\n",
       "      <td>1</td>\n",
       "      <td>1725.55230</td>\n",
       "      <td>0</td>\n",
       "      <td>0</td>\n",
       "      <td>1</td>\n",
       "      <td>1</td>\n",
       "    </tr>\n",
       "    <tr>\n",
       "      <th>2</th>\n",
       "      <td>28</td>\n",
       "      <td>33.000</td>\n",
       "      <td>3</td>\n",
       "      <td>4449.46200</td>\n",
       "      <td>0</td>\n",
       "      <td>0</td>\n",
       "      <td>1</td>\n",
       "      <td>1</td>\n",
       "    </tr>\n",
       "    <tr>\n",
       "      <th>3</th>\n",
       "      <td>33</td>\n",
       "      <td>22.705</td>\n",
       "      <td>0</td>\n",
       "      <td>21984.47061</td>\n",
       "      <td>0</td>\n",
       "      <td>0</td>\n",
       "      <td>0</td>\n",
       "      <td>1</td>\n",
       "    </tr>\n",
       "    <tr>\n",
       "      <th>4</th>\n",
       "      <td>32</td>\n",
       "      <td>28.880</td>\n",
       "      <td>0</td>\n",
       "      <td>3866.85520</td>\n",
       "      <td>0</td>\n",
       "      <td>0</td>\n",
       "      <td>0</td>\n",
       "      <td>1</td>\n",
       "    </tr>\n",
       "  </tbody>\n",
       "</table>\n",
       "</div>"
      ],
      "text/plain": [
       "   age     bmi  children      charges  yes  northeast  southeast  male\n",
       "0   19  27.900         0  16884.92400    1          0          0     0\n",
       "1   18  33.770         1   1725.55230    0          0          1     1\n",
       "2   28  33.000         3   4449.46200    0          0          1     1\n",
       "3   33  22.705         0  21984.47061    0          0          0     1\n",
       "4   32  28.880         0   3866.85520    0          0          0     1"
      ]
     },
     "execution_count": 8,
     "metadata": {},
     "output_type": "execute_result"
    }
   ],
   "source": [
    "#adding the dummy to original dataset and droping the label\n",
    "data=pd.concat([data,Smoker,Region,Male],axis=1)\n",
    "data.drop(['smoker','region','northwest','southwest','sex'],axis=1,inplace=True)\n",
    "data.head(5)"
   ]
  },
  {
   "cell_type": "code",
   "execution_count": 9,
   "id": "8b20c54e",
   "metadata": {},
   "outputs": [
    {
     "data": {
      "text/plain": [
       "(1338, 8)"
      ]
     },
     "execution_count": 9,
     "metadata": {},
     "output_type": "execute_result"
    }
   ],
   "source": [
    "data.shape"
   ]
  },
  {
   "cell_type": "code",
   "execution_count": 10,
   "id": "f01f53ec",
   "metadata": {},
   "outputs": [
    {
     "data": {
      "text/plain": [
       "age          0\n",
       "bmi          0\n",
       "children     0\n",
       "charges      0\n",
       "yes          0\n",
       "northeast    0\n",
       "southeast    0\n",
       "male         0\n",
       "dtype: int64"
      ]
     },
     "execution_count": 10,
     "metadata": {},
     "output_type": "execute_result"
    }
   ],
   "source": [
    "data.isnull().sum()"
   ]
  },
  {
   "cell_type": "markdown",
   "id": "f2b32cb4",
   "metadata": {},
   "source": [
    "# Linear Regression"
   ]
  },
  {
   "cell_type": "code",
   "execution_count": 11,
   "id": "909468ee",
   "metadata": {},
   "outputs": [],
   "source": [
    "from sklearn.linear_model import LinearRegression\n",
    "from sklearn.model_selection import train_test_split\n",
    "from sklearn.metrics import r2_score"
   ]
  },
  {
   "cell_type": "code",
   "execution_count": 12,
   "id": "63fc1c36",
   "metadata": {},
   "outputs": [
    {
     "data": {
      "text/html": [
       "<div>\n",
       "<style scoped>\n",
       "    .dataframe tbody tr th:only-of-type {\n",
       "        vertical-align: middle;\n",
       "    }\n",
       "\n",
       "    .dataframe tbody tr th {\n",
       "        vertical-align: top;\n",
       "    }\n",
       "\n",
       "    .dataframe thead th {\n",
       "        text-align: right;\n",
       "    }\n",
       "</style>\n",
       "<table border=\"1\" class=\"dataframe\">\n",
       "  <thead>\n",
       "    <tr style=\"text-align: right;\">\n",
       "      <th></th>\n",
       "      <th>age</th>\n",
       "      <th>bmi</th>\n",
       "      <th>children</th>\n",
       "      <th>yes</th>\n",
       "      <th>northeast</th>\n",
       "      <th>southeast</th>\n",
       "      <th>male</th>\n",
       "    </tr>\n",
       "  </thead>\n",
       "  <tbody>\n",
       "    <tr>\n",
       "      <th>0</th>\n",
       "      <td>19</td>\n",
       "      <td>27.900</td>\n",
       "      <td>0</td>\n",
       "      <td>1</td>\n",
       "      <td>0</td>\n",
       "      <td>0</td>\n",
       "      <td>0</td>\n",
       "    </tr>\n",
       "    <tr>\n",
       "      <th>1</th>\n",
       "      <td>18</td>\n",
       "      <td>33.770</td>\n",
       "      <td>1</td>\n",
       "      <td>0</td>\n",
       "      <td>0</td>\n",
       "      <td>1</td>\n",
       "      <td>1</td>\n",
       "    </tr>\n",
       "    <tr>\n",
       "      <th>2</th>\n",
       "      <td>28</td>\n",
       "      <td>33.000</td>\n",
       "      <td>3</td>\n",
       "      <td>0</td>\n",
       "      <td>0</td>\n",
       "      <td>1</td>\n",
       "      <td>1</td>\n",
       "    </tr>\n",
       "    <tr>\n",
       "      <th>3</th>\n",
       "      <td>33</td>\n",
       "      <td>22.705</td>\n",
       "      <td>0</td>\n",
       "      <td>0</td>\n",
       "      <td>0</td>\n",
       "      <td>0</td>\n",
       "      <td>1</td>\n",
       "    </tr>\n",
       "    <tr>\n",
       "      <th>4</th>\n",
       "      <td>32</td>\n",
       "      <td>28.880</td>\n",
       "      <td>0</td>\n",
       "      <td>0</td>\n",
       "      <td>0</td>\n",
       "      <td>0</td>\n",
       "      <td>1</td>\n",
       "    </tr>\n",
       "  </tbody>\n",
       "</table>\n",
       "</div>"
      ],
      "text/plain": [
       "   age     bmi  children  yes  northeast  southeast  male\n",
       "0   19  27.900         0    1          0          0     0\n",
       "1   18  33.770         1    0          0          1     1\n",
       "2   28  33.000         3    0          0          1     1\n",
       "3   33  22.705         0    0          0          0     1\n",
       "4   32  28.880         0    0          0          0     1"
      ]
     },
     "execution_count": 12,
     "metadata": {},
     "output_type": "execute_result"
    }
   ],
   "source": [
    "#assigning the values to input and target \n",
    "inputs=data.drop('charges',axis=1)\n",
    "charges=data['charges']\n",
    "inputs.head(5)"
   ]
  },
  {
   "cell_type": "code",
   "execution_count": 13,
   "id": "99c0c61d",
   "metadata": {},
   "outputs": [],
   "source": [
    "##Splitting data for training and testing\n",
    "Xtrain,Xtest,ytrain,ytest=train_test_split(inputs,charges,test_size=0.2,random_state=1)"
   ]
  },
  {
   "cell_type": "code",
   "execution_count": 14,
   "id": "b3853913",
   "metadata": {},
   "outputs": [],
   "source": [
    "#model:\n",
    "Lr=LinearRegression()\n",
    "Lr.fit(Xtrain,ytrain)\n",
    "ypre=Lr.predict(Xtest)"
   ]
  },
  {
   "cell_type": "code",
   "execution_count": 15,
   "id": "a6704f95",
   "metadata": {},
   "outputs": [
    {
     "data": {
      "text/plain": [
       "(268, 7)"
      ]
     },
     "execution_count": 15,
     "metadata": {},
     "output_type": "execute_result"
    }
   ],
   "source": [
    "Xtest.shape"
   ]
  },
  {
   "cell_type": "code",
   "execution_count": 16,
   "id": "83ff5bfb",
   "metadata": {},
   "outputs": [
    {
     "data": {
      "text/plain": [
       "559      1646.42970\n",
       "1087    11353.22760\n",
       "1020     8798.59300\n",
       "460     10381.47870\n",
       "802      2103.08000\n",
       "           ...     \n",
       "682     40103.89000\n",
       "629     42983.45850\n",
       "893     44202.65360\n",
       "807      2136.88225\n",
       "1165     5227.98875\n",
       "Name: charges, Length: 268, dtype: float64"
      ]
     },
     "execution_count": 16,
     "metadata": {},
     "output_type": "execute_result"
    }
   ],
   "source": [
    "ytest"
   ]
  },
  {
   "cell_type": "code",
   "execution_count": 17,
   "id": "930e7de1",
   "metadata": {},
   "outputs": [
    {
     "data": {
      "text/plain": [
       "array([ 4.10680807e+03,  1.26216022e+04,  1.28176644e+04,  1.32852220e+04,\n",
       "        8.13631091e+02,  3.18530938e+04,  1.29119133e+04,  1.23183865e+04,\n",
       "        3.78833093e+03,  2.94827705e+04,  1.10251683e+04,  1.77494345e+04,\n",
       "        8.68734136e+03,  8.60202156e+03,  3.12244410e+03,  1.06988261e+04,\n",
       "        3.62221931e+03,  7.20712865e+03,  1.50030910e+04,  1.46815072e+04,\n",
       "        1.25301807e+04,  3.29484947e+04,  8.81906482e+03,  9.24307579e+03,\n",
       "        3.01579872e+03,  7.91204378e+03,  9.56754297e+03,  1.07411297e+04,\n",
       "        7.93917890e+03,  4.37922060e+03,  1.43767245e+04,  6.07232443e+03,\n",
       "        3.46559437e+04,  2.67405356e+04,  3.33745526e+04,  9.28856985e+03,\n",
       "        3.06517591e+04,  2.69171734e+04,  1.51411213e+04,  3.36366505e+04,\n",
       "        6.30729774e+03,  1.37881576e+04,  1.07360705e+04,  1.53213980e+04,\n",
       "        4.45786680e+03,  1.31059946e+04,  4.32957822e+03,  2.86060915e+04,\n",
       "        7.01630339e+03,  1.42818977e+04,  1.32854596e+04,  1.25849357e+04,\n",
       "        1.60715226e+03,  9.14486640e+03,  2.60909184e+04,  1.00934349e+04,\n",
       "        3.42268585e+04,  1.47723768e+04,  3.24770200e+03,  5.85899047e+03,\n",
       "        6.54911635e+03,  1.49391446e+04,  2.69548241e+04,  3.01632095e+03,\n",
       "        1.57723731e+04,  1.09572729e+04,  1.08861194e+04,  1.04883977e+04,\n",
       "        1.27631628e+03,  2.52860180e+04,  3.72922110e+04,  3.31057492e+04,\n",
       "        2.23484695e+03,  1.11136865e+04,  1.34246198e+04,  3.49539672e+04,\n",
       "        2.94261724e+03,  3.88568243e+03,  1.06164669e+04,  1.01871941e+04,\n",
       "       -4.21416649e+01,  1.38080890e+04,  1.00940488e+04,  3.40759565e+03,\n",
       "        3.34843846e+04,  3.30766527e+04,  7.42192581e+03,  3.76867286e+04,\n",
       "        1.28531097e+04,  1.00507119e+04,  2.98618923e+04,  3.40195896e+04,\n",
       "        1.47530835e+04,  1.08016277e+04, -1.39587255e+01,  1.05583631e+04,\n",
       "        9.89946282e+03,  1.49574954e+04,  1.46973952e+04,  6.09605676e+03,\n",
       "        1.34093959e+04,  2.58013320e+04,  2.84092725e+04,  2.76590966e+04,\n",
       "        3.53493625e+04,  2.68620387e+04,  8.95278797e+02,  9.51480063e+03,\n",
       "        4.68860635e+03,  1.24547206e+04,  5.34597115e+03,  4.80982229e+03,\n",
       "        8.04134683e+02,  1.85218652e+04,  3.01838144e+03,  1.92841510e+03,\n",
       "        1.19605233e+04,  1.23492381e+04,  1.18573466e+04,  3.45562298e+03,\n",
       "        9.16677389e+03,  1.39027726e+04,  7.73482537e+03,  6.84136222e+03,\n",
       "        3.66756065e+04,  1.24178370e+04,  1.22646438e+04,  2.93275031e+04,\n",
       "        3.60489174e+04,  1.18692942e+04,  2.81004159e+04, -1.48017096e+02,\n",
       "        8.26253374e+03,  3.16033477e+04,  8.53176965e+03, -4.12394877e+02,\n",
       "        9.25333706e+02,  4.59302446e+03,  7.36476540e+03,  1.25757716e+04,\n",
       "        1.48636549e+04,  8.69993836e+03,  2.89392746e+04,  1.57041478e+04,\n",
       "        1.46863782e+04,  1.08641868e+04,  1.91992065e+03,  1.03153346e+04,\n",
       "        3.77936883e+03,  5.92988591e+03,  1.13881820e+04,  5.24773365e+03,\n",
       "        1.43079905e+04,  1.36841513e+04,  1.26736904e+04,  7.27825735e+03,\n",
       "        1.23809577e+04,  1.09265694e+04,  1.02753251e+04,  4.77665139e+03,\n",
       "        5.65269586e+03,  4.03850530e+04,  1.30644443e+04,  4.55731971e+03,\n",
       "        8.17428432e+03,  4.66697871e+03,  3.22006163e+04,  1.15139204e+04,\n",
       "        1.12224620e+04,  6.89443404e+03,  6.69288729e+03,  6.42511753e+03,\n",
       "        3.31035841e+04,  3.46496091e+04,  1.92558897e+03,  7.66939797e+03,\n",
       "        5.44314446e+03,  1.55370767e+04,  1.50095902e+03,  1.14081261e+04,\n",
       "        1.34392919e+04,  1.15155171e+04,  1.02886474e+04,  1.31840128e+04,\n",
       "        2.15509805e+03,  2.75415984e+04,  2.36047011e+03,  1.47190524e+04,\n",
       "        6.06154219e+03,  1.06022861e+04,  1.47169257e+04,  3.88379930e+04,\n",
       "        2.37192608e+03,  1.24601652e+03,  4.94515865e+03,  7.82961263e+03,\n",
       "        7.92745269e+03,  4.22825194e+03,  1.04490931e+04,  8.95331298e+03,\n",
       "        9.38755637e+03,  1.13392489e+04,  1.06017801e+04,  9.24868421e+03,\n",
       "        7.82339061e+03,  9.09212042e+02,  1.01234630e+04,  7.32663527e+03,\n",
       "        6.59095468e+03,  1.19584419e+04,  5.40965715e+03,  3.28924258e+04,\n",
       "        7.08497214e+03,  6.55086799e+03,  8.17254631e+03,  3.91984302e+04,\n",
       "        1.19393799e+04,  2.83268661e+04,  2.87685660e+03,  3.34536934e+04,\n",
       "        3.68242297e+03,  3.16069349e+04,  1.35656910e+04,  2.74986095e+03,\n",
       "        1.65252785e+03,  1.52582134e+03,  5.84948141e+03,  4.70034948e+03,\n",
       "        2.58285983e+04,  1.57272565e+04,  5.08125579e+03,  1.30541351e+04,\n",
       "        3.89312695e+04,  4.82574274e+03,  1.27168348e+04,  1.15834073e+04,\n",
       "        2.75482231e+04,  2.53122077e+03,  1.33656257e+04,  5.73630250e+03,\n",
       "        1.51780880e+04,  5.75163587e+03,  1.69111789e+04,  3.89597409e+03,\n",
       "        1.21961742e+04,  3.47011337e+04,  1.06648584e+04,  1.08466696e+04,\n",
       "        4.87768481e+03,  1.64546250e+04,  1.41239163e+04,  5.50261691e+03,\n",
       "        1.11684486e+04,  1.25051868e+04,  4.62155941e+03,  7.13662475e+03,\n",
       "        2.76490653e+04,  3.22423395e+04, -7.10853110e+02,  4.02872357e+04,\n",
       "        9.41086759e+03,  7.50301188e+03,  1.06724254e+04,  3.37924982e+04,\n",
       "        3.56644288e+04,  3.66379972e+04,  4.68274828e+03,  6.12177546e+03])"
      ]
     },
     "execution_count": 17,
     "metadata": {},
     "output_type": "execute_result"
    }
   ],
   "source": [
    "ypre"
   ]
  },
  {
   "cell_type": "code",
   "execution_count": 18,
   "id": "f5d8c0a3",
   "metadata": {},
   "outputs": [],
   "source": [
    "# calculating the mean squared error\n",
    "mse = np.mean((ytest - ypre)**2, axis = None)"
   ]
  },
  {
   "cell_type": "code",
   "execution_count": 19,
   "id": "be7cfc90",
   "metadata": {},
   "outputs": [],
   "source": [
    "# Calculating the root mean squared error\n",
    "rmse = np.sqrt(mse)"
   ]
  },
  {
   "cell_type": "code",
   "execution_count": 20,
   "id": "5d1c8f7d",
   "metadata": {},
   "outputs": [],
   "source": [
    "# Calculating the r2 score\n",
    "r2 = r2_score(ytest, ypre)"
   ]
  },
  {
   "cell_type": "code",
   "execution_count": 21,
   "id": "f239297a",
   "metadata": {},
   "outputs": [
    {
     "name": "stdout",
     "output_type": "stream",
     "text": [
      "MSE: 35568780.716343656\n",
      "RMSE: 5963.956800341838\n",
      "R2 score: 76.17321254167256\n"
     ]
    }
   ],
   "source": [
    "#result\n",
    "print('MSE:',mse)\n",
    "print('RMSE:',rmse)\n",
    "print('R2 score:',r2*100)"
   ]
  },
  {
   "cell_type": "markdown",
   "id": "acef3404",
   "metadata": {},
   "source": [
    "# Decision Tree"
   ]
  },
  {
   "cell_type": "code",
   "execution_count": 22,
   "id": "5276b639",
   "metadata": {},
   "outputs": [],
   "source": [
    "from sklearn.tree import DecisionTreeRegressor\n",
    "from sklearn.metrics import r2_score\n",
    "from sklearn.model_selection import train_test_split"
   ]
  },
  {
   "cell_type": "code",
   "execution_count": 23,
   "id": "deeb596a",
   "metadata": {},
   "outputs": [
    {
     "data": {
      "text/plain": [
       "0       16884.92400\n",
       "1        1725.55230\n",
       "2        4449.46200\n",
       "3       21984.47061\n",
       "4        3866.85520\n",
       "           ...     \n",
       "1333    10600.54830\n",
       "1334     2205.98080\n",
       "1335     1629.83350\n",
       "1336     2007.94500\n",
       "1337    29141.36030\n",
       "Name: charges, Length: 1338, dtype: float64"
      ]
     },
     "execution_count": 23,
     "metadata": {},
     "output_type": "execute_result"
    }
   ],
   "source": [
    "#assigning variables to dependent and independend values\n",
    "\n",
    "inputs=data.drop('charges',axis=1)\n",
    "charges=data['charges']\n",
    "charges"
   ]
  },
  {
   "cell_type": "code",
   "execution_count": 24,
   "id": "e6ebdde6",
   "metadata": {},
   "outputs": [],
   "source": [
    "##Splitting data for training and testing\n",
    "Xtrain,Xtest,ytrain,ytest=train_test_split(inputs,charges,test_size=0.3,random_state=1)"
   ]
  },
  {
   "cell_type": "code",
   "execution_count": 25,
   "id": "3a894d68",
   "metadata": {},
   "outputs": [],
   "source": [
    "#model:\n",
    "model=DecisionTreeRegressor()\n",
    "model.fit(Xtrain,ytrain)\n",
    "ypred=model.predict(Xtest)"
   ]
  },
  {
   "cell_type": "code",
   "execution_count": 26,
   "id": "587368d8",
   "metadata": {},
   "outputs": [],
   "source": [
    "#Calculation:\n",
    "mse = np.mean((ytest - ypred)**2, axis = None)\n",
    "rmse = np.sqrt(mse)\n",
    "r2 = r2_score(ytest, ypred)"
   ]
  },
  {
   "cell_type": "code",
   "execution_count": 27,
   "id": "23d90ac7",
   "metadata": {},
   "outputs": [
    {
     "name": "stdout",
     "output_type": "stream",
     "text": [
      "MSE: 40030145.8649413\n",
      "RMSE: 6326.93811135697\n",
      "R2 score: 71.75339708408124\n"
     ]
    }
   ],
   "source": [
    "#result\n",
    "print('MSE:',mse)\n",
    "print('RMSE:',rmse)\n",
    "print('R2 score:',r2*100)"
   ]
  },
  {
   "cell_type": "markdown",
   "id": "4f06fed1",
   "metadata": {},
   "source": [
    "# Random Forest"
   ]
  },
  {
   "cell_type": "code",
   "execution_count": 28,
   "id": "8e246209",
   "metadata": {},
   "outputs": [],
   "source": [
    "from sklearn.ensemble import RandomForestRegressor\n",
    "from sklearn.metrics import r2_score\n",
    "from sklearn.model_selection import train_test_split"
   ]
  },
  {
   "cell_type": "code",
   "execution_count": 29,
   "id": "0e4f36ed",
   "metadata": {},
   "outputs": [
    {
     "data": {
      "text/plain": [
       "0       16884.92400\n",
       "1        1725.55230\n",
       "2        4449.46200\n",
       "3       21984.47061\n",
       "4        3866.85520\n",
       "           ...     \n",
       "1333    10600.54830\n",
       "1334     2205.98080\n",
       "1335     1629.83350\n",
       "1336     2007.94500\n",
       "1337    29141.36030\n",
       "Name: charges, Length: 1338, dtype: float64"
      ]
     },
     "execution_count": 29,
     "metadata": {},
     "output_type": "execute_result"
    }
   ],
   "source": [
    "#assigning variables to dependent and independend values\n",
    "\n",
    "inputs=data.drop('charges',axis=1)\n",
    "charges=data['charges']\n",
    "charges"
   ]
  },
  {
   "cell_type": "code",
   "execution_count": 30,
   "id": "e81f38a9",
   "metadata": {},
   "outputs": [],
   "source": [
    "##Splitting data for training and testing\n",
    "Xtrain,Xtest,ytrain,ytest=train_test_split(inputs,charges,test_size=0.3,random_state=1)"
   ]
  },
  {
   "cell_type": "code",
   "execution_count": 31,
   "id": "90633629",
   "metadata": {},
   "outputs": [],
   "source": [
    "#model:\n",
    "model=RandomForestRegressor()\n",
    "model.fit(Xtrain,ytrain)\n",
    "ypred=model.predict(Xtest)"
   ]
  },
  {
   "cell_type": "code",
   "execution_count": 32,
   "id": "0d63ed62",
   "metadata": {},
   "outputs": [],
   "source": [
    "#Calculation:\n",
    "mse = np.mean((ytest - ypred)**2, axis = None)\n",
    "rmse = np.sqrt(mse)\n",
    "r2 = r2_score(ytest, ypred)"
   ]
  },
  {
   "cell_type": "code",
   "execution_count": 33,
   "id": "f1b04d1c",
   "metadata": {},
   "outputs": [
    {
     "name": "stdout",
     "output_type": "stream",
     "text": [
      "MSE: 23615533.288140927\n",
      "RMSE: 4859.581595995784\n",
      "R2 score: 83.33609391061468\n"
     ]
    }
   ],
   "source": [
    "#result\n",
    "print('MSE:',mse)\n",
    "print('RMSE:',rmse)\n",
    "print('R2 score:',r2*100)"
   ]
  },
  {
   "cell_type": "markdown",
   "id": "7ed8d8ae",
   "metadata": {},
   "source": [
    "# KNN"
   ]
  },
  {
   "cell_type": "code",
   "execution_count": 34,
   "id": "7ce733d9",
   "metadata": {},
   "outputs": [],
   "source": [
    "from sklearn.neighbors import KNeighborsRegressor\n",
    "from sklearn.metrics import r2_score\n",
    "from sklearn.model_selection import train_test_split\n",
    "from sklearn.preprocessing import StandardScaler"
   ]
  },
  {
   "cell_type": "code",
   "execution_count": 35,
   "id": "fe81188b",
   "metadata": {},
   "outputs": [
    {
     "data": {
      "text/plain": [
       "0       16884.92400\n",
       "1        1725.55230\n",
       "2        4449.46200\n",
       "3       21984.47061\n",
       "4        3866.85520\n",
       "           ...     \n",
       "1333    10600.54830\n",
       "1334     2205.98080\n",
       "1335     1629.83350\n",
       "1336     2007.94500\n",
       "1337    29141.36030\n",
       "Name: charges, Length: 1338, dtype: float64"
      ]
     },
     "execution_count": 35,
     "metadata": {},
     "output_type": "execute_result"
    }
   ],
   "source": [
    "#assigning variables to dependent and independend values\n",
    "\n",
    "inputs=data.drop('charges',axis=1)\n",
    "charges=data['charges']\n",
    "charges"
   ]
  },
  {
   "cell_type": "code",
   "execution_count": 36,
   "id": "34e3aef8",
   "metadata": {},
   "outputs": [],
   "source": [
    "##Splitting data for training and testing\n",
    "Xtrain,Xtest,ytrain,ytest=train_test_split(inputs,charges,test_size=0.3,random_state=1)"
   ]
  },
  {
   "cell_type": "code",
   "execution_count": 37,
   "id": "19520fb7",
   "metadata": {},
   "outputs": [
    {
     "data": {
      "text/plain": [
       "array([[ 0.79715222, -0.70211414, -0.90400228, ..., -0.56254395,\n",
       "        -0.60038747,  0.97676557],\n",
       "       [-1.27108519, -0.70375759, -0.08567913, ..., -0.56254395,\n",
       "        -0.60038747, -1.02378711],\n",
       "       [-0.98581107, -0.73333977, -0.90400228, ...,  1.77763888,\n",
       "        -0.60038747,  0.97676557],\n",
       "       ...,\n",
       "       [ 0.86847075,  0.70303946,  0.73264401, ...,  1.77763888,\n",
       "        -0.60038747, -1.02378711],\n",
       "       [ 0.0839669 , -1.39072157,  0.73264401, ..., -0.56254395,\n",
       "         1.66559105, -1.02378711],\n",
       "       [ 1.29638193, -0.4506656 , -0.08567913, ..., -0.56254395,\n",
       "         1.66559105,  0.97676557]])"
      ]
     },
     "execution_count": 37,
     "metadata": {},
     "output_type": "execute_result"
    }
   ],
   "source": [
    "#Standardising the data to convert the mean into 0 and SD into 1\n",
    "Sr=StandardScaler()\n",
    "S_Xtrain=Sr.fit_transform(Xtrain)\n",
    "S_Xtest=Sr.fit_transform(Xtest)\n",
    "S_Xtrain"
   ]
  },
  {
   "cell_type": "code",
   "execution_count": 38,
   "id": "0f3117cf",
   "metadata": {},
   "outputs": [],
   "source": [
    "# knn model and prediction\n",
    "knn = KNeighborsRegressor(n_neighbors=7)\n",
    "knn.fit(S_Xtrain,ytrain)\n",
    "ypre=knn.predict(S_Xtest)"
   ]
  },
  {
   "cell_type": "code",
   "execution_count": 39,
   "id": "7a4aa673",
   "metadata": {},
   "outputs": [],
   "source": [
    "#Calculation:\n",
    "mse = np.mean((ytest - ypre)**2, axis = None)\n",
    "rmse = np.sqrt(mse)\n",
    "r2 = r2_score(ytest, ypre)"
   ]
  },
  {
   "cell_type": "code",
   "execution_count": 40,
   "id": "e94ca3bf",
   "metadata": {},
   "outputs": [
    {
     "name": "stdout",
     "output_type": "stream",
     "text": [
      "MSE: 29599020.6668095\n",
      "RMSE: 5440.498200239524\n",
      "R2 score: 79.11394611710175\n"
     ]
    }
   ],
   "source": [
    "#result\n",
    "print('MSE:',mse)\n",
    "print('RMSE:',rmse)\n",
    "print('R2 score:',r2*100)"
   ]
  },
  {
   "cell_type": "markdown",
   "id": "61b1e4a7",
   "metadata": {},
   "source": [
    "# Support Vector Machine"
   ]
  },
  {
   "cell_type": "code",
   "execution_count": 41,
   "id": "0245e637",
   "metadata": {},
   "outputs": [],
   "source": [
    "from sklearn.svm import SVR\n",
    "from sklearn.model_selection import train_test_split\n",
    "from sklearn.metrics import r2_score\n",
    "from sklearn.preprocessing import StandardScaler"
   ]
  },
  {
   "cell_type": "code",
   "execution_count": 42,
   "id": "40576971",
   "metadata": {},
   "outputs": [
    {
     "data": {
      "text/html": [
       "<div>\n",
       "<style scoped>\n",
       "    .dataframe tbody tr th:only-of-type {\n",
       "        vertical-align: middle;\n",
       "    }\n",
       "\n",
       "    .dataframe tbody tr th {\n",
       "        vertical-align: top;\n",
       "    }\n",
       "\n",
       "    .dataframe thead th {\n",
       "        text-align: right;\n",
       "    }\n",
       "</style>\n",
       "<table border=\"1\" class=\"dataframe\">\n",
       "  <thead>\n",
       "    <tr style=\"text-align: right;\">\n",
       "      <th></th>\n",
       "      <th>age</th>\n",
       "      <th>bmi</th>\n",
       "      <th>children</th>\n",
       "      <th>yes</th>\n",
       "      <th>northeast</th>\n",
       "      <th>southeast</th>\n",
       "      <th>male</th>\n",
       "    </tr>\n",
       "  </thead>\n",
       "  <tbody>\n",
       "    <tr>\n",
       "      <th>0</th>\n",
       "      <td>19</td>\n",
       "      <td>27.900</td>\n",
       "      <td>0</td>\n",
       "      <td>1</td>\n",
       "      <td>0</td>\n",
       "      <td>0</td>\n",
       "      <td>0</td>\n",
       "    </tr>\n",
       "    <tr>\n",
       "      <th>1</th>\n",
       "      <td>18</td>\n",
       "      <td>33.770</td>\n",
       "      <td>1</td>\n",
       "      <td>0</td>\n",
       "      <td>0</td>\n",
       "      <td>1</td>\n",
       "      <td>1</td>\n",
       "    </tr>\n",
       "    <tr>\n",
       "      <th>2</th>\n",
       "      <td>28</td>\n",
       "      <td>33.000</td>\n",
       "      <td>3</td>\n",
       "      <td>0</td>\n",
       "      <td>0</td>\n",
       "      <td>1</td>\n",
       "      <td>1</td>\n",
       "    </tr>\n",
       "    <tr>\n",
       "      <th>3</th>\n",
       "      <td>33</td>\n",
       "      <td>22.705</td>\n",
       "      <td>0</td>\n",
       "      <td>0</td>\n",
       "      <td>0</td>\n",
       "      <td>0</td>\n",
       "      <td>1</td>\n",
       "    </tr>\n",
       "    <tr>\n",
       "      <th>4</th>\n",
       "      <td>32</td>\n",
       "      <td>28.880</td>\n",
       "      <td>0</td>\n",
       "      <td>0</td>\n",
       "      <td>0</td>\n",
       "      <td>0</td>\n",
       "      <td>1</td>\n",
       "    </tr>\n",
       "  </tbody>\n",
       "</table>\n",
       "</div>"
      ],
      "text/plain": [
       "   age     bmi  children  yes  northeast  southeast  male\n",
       "0   19  27.900         0    1          0          0     0\n",
       "1   18  33.770         1    0          0          1     1\n",
       "2   28  33.000         3    0          0          1     1\n",
       "3   33  22.705         0    0          0          0     1\n",
       "4   32  28.880         0    0          0          0     1"
      ]
     },
     "execution_count": 42,
     "metadata": {},
     "output_type": "execute_result"
    }
   ],
   "source": [
    "#assigning the values to input and target \n",
    "X=data.drop('charges',axis=1)\n",
    "y=data['charges']\n",
    "X.head(5)"
   ]
  },
  {
   "cell_type": "code",
   "execution_count": 43,
   "id": "bc27b763",
   "metadata": {},
   "outputs": [],
   "source": [
    "##Splitting data for training and testing\n",
    "Xtrain,Xtest,y_train,y_test=train_test_split(inputs,charges,test_size=0.2,random_state=1)"
   ]
  },
  {
   "cell_type": "code",
   "execution_count": 44,
   "id": "c9a0b67b",
   "metadata": {},
   "outputs": [],
   "source": [
    "#Model\n",
    "model=SVR()\n",
    "model.fit(Xtrain,y_train)\n",
    "ypred=model.predict(Xtest)"
   ]
  },
  {
   "cell_type": "code",
   "execution_count": 45,
   "id": "c869779a",
   "metadata": {},
   "outputs": [],
   "source": [
    "#Calculation:\n",
    "mse = np.mean((y_test - ypred)**2, axis = None)\n",
    "rmse = np.sqrt(mse)\n",
    "r2 = r2_score(y_test, ypred)"
   ]
  },
  {
   "cell_type": "code",
   "execution_count": 46,
   "id": "1ca6a827",
   "metadata": {},
   "outputs": [
    {
     "name": "stdout",
     "output_type": "stream",
     "text": [
      "MSE: 166558631.96321929\n",
      "RMSE: 12905.759643012854\n",
      "R2 score: -11.574168223143054\n"
     ]
    }
   ],
   "source": [
    "#result\n",
    "print('MSE:',mse)\n",
    "print('RMSE:',rmse)\n",
    "print('R2 score:',r2*100)"
   ]
  },
  {
   "cell_type": "markdown",
   "id": "9220d783",
   "metadata": {},
   "source": [
    "Inference:\n",
    "\n",
    "Among all the algorithms we got least rmse on Random Forest with score on 83%\n",
    "\n",
    "Second most algorithm performed well is KNN with score 79%"
   ]
  }
 ],
 "metadata": {
  "kernelspec": {
   "display_name": "Python 3",
   "language": "python",
   "name": "python3"
  },
  "language_info": {
   "codemirror_mode": {
    "name": "ipython",
    "version": 3
   },
   "file_extension": ".py",
   "mimetype": "text/x-python",
   "name": "python",
   "nbconvert_exporter": "python",
   "pygments_lexer": "ipython3",
   "version": "3.8.8"
  }
 },
 "nbformat": 4,
 "nbformat_minor": 5
}
